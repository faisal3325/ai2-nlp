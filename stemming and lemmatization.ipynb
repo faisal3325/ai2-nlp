{
 "cells": [
  {
   "cell_type": "markdown",
   "metadata": {},
   "source": [
    "# Stemming"
   ]
  },
  {
   "cell_type": "code",
   "execution_count": 1,
   "metadata": {},
   "outputs": [],
   "source": [
    "import nltk\n",
    "\n",
    "from nltk.stem.porter import PorterStemmer"
   ]
  },
  {
   "cell_type": "code",
   "execution_count": 2,
   "metadata": {},
   "outputs": [],
   "source": [
    "porter_stemmer = PorterStemmer()"
   ]
  },
  {
   "cell_type": "code",
   "execution_count": 3,
   "metadata": {},
   "outputs": [
    {
     "data": {
      "text/plain": [
       "'caress'"
      ]
     },
     "execution_count": 3,
     "metadata": {},
     "output_type": "execute_result"
    }
   ],
   "source": [
    "porter_stemmer.stem('caresses')"
   ]
  },
  {
   "cell_type": "code",
   "execution_count": 16,
   "metadata": {},
   "outputs": [
    {
     "name": "stdout",
     "output_type": "stream",
     "text": [
      "caresses --> caress\n",
      "ponies --> poni\n",
      "pony --> poni\n",
      "cats --> cat\n",
      "running --> run\n",
      "runner --> runner\n",
      "climber --> climber\n",
      "easily --> easili\n",
      "quickly --> quickli\n"
     ]
    }
   ],
   "source": [
    "sample_words = ['caresses', 'ponies', 'pony', 'cats', 'running', 'runner', 'climber', 'easily', 'quickly']\n",
    "\n",
    "for word in sample_words:\n",
    "    print(word, '-->', porter_stemmer.stem(word))"
   ]
  },
  {
   "cell_type": "code",
   "execution_count": 8,
   "metadata": {},
   "outputs": [],
   "source": [
    "# Porter2 Stemmer\n",
    "from nltk.stem.snowball import SnowballStemmer"
   ]
  },
  {
   "cell_type": "code",
   "execution_count": 14,
   "metadata": {},
   "outputs": [],
   "source": [
    "snowball_stemmer = SnowballStemmer(language='english')"
   ]
  },
  {
   "cell_type": "code",
   "execution_count": 12,
   "metadata": {
    "scrolled": false
   },
   "outputs": [
    {
     "name": "stdout",
     "output_type": "stream",
     "text": [
      "caresses --> caress\n",
      "ponies --> poni\n",
      "pony --> poni\n",
      "cats --> cat\n",
      "running --> run\n",
      "runner --> runner\n",
      "climber --> climber\n",
      "easily --> easili\n",
      "quickly --> quick\n"
     ]
    }
   ],
   "source": [
    "for word in sample_words:\n",
    "    print(word, '-->', snowball_stemmer.stem(word))"
   ]
  },
  {
   "cell_type": "markdown",
   "metadata": {},
   "source": [
    "# Lemmatization"
   ]
  },
  {
   "cell_type": "code",
   "execution_count": 1,
   "metadata": {},
   "outputs": [],
   "source": [
    "import spacy\n",
    "nlp = spacy.load('en_core_web_sm')"
   ]
  },
  {
   "cell_type": "code",
   "execution_count": 2,
   "metadata": {},
   "outputs": [],
   "source": [
    "doc_object = nlp(\"I like to jog. I hated it in my childhood though.\")"
   ]
  },
  {
   "cell_type": "code",
   "execution_count": 6,
   "metadata": {},
   "outputs": [
    {
     "name": "stdout",
     "output_type": "stream",
     "text": [
      "I --> pronoun\n",
      "like --> verb\n",
      "to --> particle\n",
      "jog --> verb\n",
      ". --> punctuation\n",
      "I --> pronoun\n",
      "hated --> verb\n",
      "it --> pronoun\n",
      "in --> adposition\n",
      "my --> adjective\n",
      "childhood --> noun\n",
      "though --> adverb\n",
      ". --> punctuation\n"
     ]
    }
   ],
   "source": [
    "for token in doc_object:\n",
    "    print(token, '-->', spacy.explain(token.pos_))"
   ]
  }
 ],
 "metadata": {
  "kernelspec": {
   "display_name": "Python 3",
   "language": "python",
   "name": "python3"
  },
  "language_info": {
   "codemirror_mode": {
    "name": "ipython",
    "version": 3
   },
   "file_extension": ".py",
   "mimetype": "text/x-python",
   "name": "python",
   "nbconvert_exporter": "python",
   "pygments_lexer": "ipython3",
   "version": "3.7.6"
  }
 },
 "nbformat": 4,
 "nbformat_minor": 4
}
