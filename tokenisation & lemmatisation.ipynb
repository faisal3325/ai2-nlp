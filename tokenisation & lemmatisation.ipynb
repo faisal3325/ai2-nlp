{
 "cells": [
  {
   "cell_type": "code",
   "execution_count": 1,
   "metadata": {},
   "outputs": [],
   "source": [
    "import spacy\n",
    "import en_core_web_sm\n",
    "nlp = en_core_web_sm.load()"
   ]
  },
  {
   "cell_type": "code",
   "execution_count": 3,
   "metadata": {},
   "outputs": [],
   "source": [
    "doc_object = '\"Mr. O\\'Neill thinks that the boys\\' stories about Chile\\'s capital aren\\'t amusing\"'"
   ]
  },
  {
   "cell_type": "code",
   "execution_count": 4,
   "metadata": {},
   "outputs": [
    {
     "name": "stdout",
     "output_type": "stream",
     "text": [
      "\"Mr. O'Neill thinks that the boys' stories about Chile's capital aren't amusing\"\n"
     ]
    }
   ],
   "source": [
    "print(doc_object)"
   ]
  },
  {
   "cell_type": "code",
   "execution_count": 5,
   "metadata": {},
   "outputs": [
    {
     "data": {
      "text/plain": [
       "\"Mr. O'Neill thinks that the boys' stories about Chile's capital aren't amusing\""
      ]
     },
     "execution_count": 5,
     "metadata": {},
     "output_type": "execute_result"
    }
   ],
   "source": [
    "nlp_sentence = nlp(doc_object)\n",
    "nlp_sentence"
   ]
  },
  {
   "cell_type": "code",
   "execution_count": 7,
   "metadata": {},
   "outputs": [
    {
     "name": "stdout",
     "output_type": "stream",
     "text": [
      "\" PUNCT | Mr. PROPN | O'Neill PROPN | thinks VERB | that ADP | the DET | boys NOUN | ' PART | stories NOUN | about ADP | Chile PROPN | 's PART | capital NOUN | are VERB | n't ADV | amusing ADJ | \" PUNCT | "
     ]
    }
   ],
   "source": [
    "for token in nlp_sentence:\n",
    "    print(token.text, token.pos_, end=\" | \")"
   ]
  },
  {
   "cell_type": "code",
   "execution_count": 11,
   "metadata": {},
   "outputs": [],
   "source": [
    "sentence = \"Access our website between 9 a.m. and 1 p.m. every weekend at www.lyit.ie.\""
   ]
  },
  {
   "cell_type": "code",
   "execution_count": 12,
   "metadata": {
    "scrolled": true
   },
   "outputs": [
    {
     "name": "stdout",
     "output_type": "stream",
     "text": [
      "Access\n",
      "our\n",
      "website\n",
      "between\n",
      "9\n",
      "a.m.\n",
      "and\n",
      "1\n",
      "p.m.\n",
      "every\n",
      "weekend\n",
      "at\n",
      "www.lyit.ie\n",
      ".\n"
     ]
    }
   ],
   "source": [
    "nlp_sentence = nlp(sentence)\n",
    "nlp_sentence\n",
    "\n",
    "for token in nlp_sentence:\n",
    "    print(token.text)"
   ]
  },
  {
   "cell_type": "code",
   "execution_count": 14,
   "metadata": {},
   "outputs": [],
   "source": [
    "sentence = \"I live about 20km from here. A taxi will cost around £50.\""
   ]
  },
  {
   "cell_type": "code",
   "execution_count": 15,
   "metadata": {},
   "outputs": [
    {
     "name": "stdout",
     "output_type": "stream",
     "text": [
      "I\n",
      "live\n",
      "about\n",
      "20\n",
      "km\n",
      "from\n",
      "here\n",
      ".\n",
      "A\n",
      "taxi\n",
      "will\n",
      "cost\n",
      "around\n",
      "£\n",
      "50\n",
      ".\n"
     ]
    }
   ],
   "source": [
    "nlp_sentence = nlp(sentence)\n",
    "nlp_sentence\n",
    "\n",
    "for token in nlp_sentence:\n",
    "    print(token.text)"
   ]
  }
 ],
 "metadata": {
  "kernelspec": {
   "display_name": "Python 3",
   "language": "python",
   "name": "python3"
  },
  "language_info": {
   "codemirror_mode": {
    "name": "ipython",
    "version": 3
   },
   "file_extension": ".py",
   "mimetype": "text/x-python",
   "name": "python",
   "nbconvert_exporter": "python",
   "pygments_lexer": "ipython3",
   "version": "3.7.6"
  }
 },
 "nbformat": 4,
 "nbformat_minor": 4
}
