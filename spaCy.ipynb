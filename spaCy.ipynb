{
 "cells": [
  {
   "cell_type": "code",
   "execution_count": 11,
   "metadata": {},
   "outputs": [],
   "source": [
    "import spacy\n",
    "nlp = spacy.load(\"en_core_web_sm\")"
   ]
  },
  {
   "cell_type": "code",
   "execution_count": 2,
   "metadata": {},
   "outputs": [],
   "source": [
    "my_text_file = open(\"sample1.txt\")"
   ]
  },
  {
   "cell_type": "code",
   "execution_count": 3,
   "metadata": {},
   "outputs": [],
   "source": [
    "text = my_text_file.read()"
   ]
  },
  {
   "cell_type": "code",
   "execution_count": 4,
   "metadata": {},
   "outputs": [
    {
     "data": {
      "text/plain": [
       "\"Ireland's economy is now booming and it's growth is now the highest in Europe with 7.8%, and the value of the Irish economy is now close to Ã¢â€šÂ¬300 billion.\""
      ]
     },
     "execution_count": 4,
     "metadata": {},
     "output_type": "execute_result"
    }
   ],
   "source": [
    "text"
   ]
  },
  {
   "cell_type": "code",
   "execution_count": 5,
   "metadata": {},
   "outputs": [],
   "source": [
    "document_obj = nlp(text)"
   ]
  },
  {
   "cell_type": "code",
   "execution_count": 9,
   "metadata": {
    "scrolled": true
   },
   "outputs": [
    {
     "name": "stdout",
     "output_type": "stream",
     "text": [
      "Ireland PROPN poss False Xxxxx\n",
      "'s PART case False 'x\n",
      "economy NOUN nsubj False xxxx\n",
      "is VERB aux True xx\n",
      "now ADV advmod True xxx\n",
      "booming ADJ ROOT False xxxx\n",
      "and CCONJ cc True xxx\n",
      "it PRON poss True xx\n",
      "'s VERB case False 'x\n",
      "growth NOUN nsubj False xxxx\n",
      "is VERB conj True xx\n",
      "now ADV advmod True xxx\n",
      "the DET det True xxx\n",
      "highest ADJ attr False xxxx\n",
      "in ADP prep True xx\n",
      "Europe PROPN pobj False Xxxxx\n",
      "with ADP prep True xxxx\n",
      "7.8 NUM nummod False d.d\n",
      "% NOUN pobj False %\n",
      ", PUNCT punct False ,\n",
      "and CCONJ cc True xxx\n",
      "the DET det True xxx\n",
      "value NOUN nsubj False xxxx\n",
      "of ADP prep True xx\n",
      "the DET det True xxx\n",
      "Irish ADJ amod False Xxxxx\n",
      "economy NOUN pobj False xxxx\n",
      "is VERB conj True xx\n",
      "now ADV advmod True xxx\n",
      "close ADJ acomp False xxxx\n",
      "to ADP prep True xx\n",
      "Ã¢â€šÂ¬300 PROPN compound False X¢x€xX¬ddd\n",
      "billion NUM pobj False xxxx\n",
      ". PUNCT punct False .\n"
     ]
    }
   ],
   "source": [
    "for token in document_obj:\n",
    "    print(token.text, token.pos_, token.dep_, token.is_stop, token.shape_)"
   ]
  }
 ],
 "metadata": {
  "kernelspec": {
   "display_name": "Python 3",
   "language": "python",
   "name": "python3"
  },
  "language_info": {
   "codemirror_mode": {
    "name": "ipython",
    "version": 3
   },
   "file_extension": ".py",
   "mimetype": "text/x-python",
   "name": "python",
   "nbconvert_exporter": "python",
   "pygments_lexer": "ipython3",
   "version": "3.7.6"
  }
 },
 "nbformat": 4,
 "nbformat_minor": 4
}
